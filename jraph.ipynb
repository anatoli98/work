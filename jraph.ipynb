{
 "cells": [
  {
   "cell_type": "code",
   "execution_count": 1,
   "metadata": {
    "colab": {
     "base_uri": "https://localhost:8080/"
    },
    "id": "WpdNVibfvwms",
    "outputId": "58ab11bd-6ecc-4f22-bea0-47e2d8e1aed4"
   },
   "outputs": [
    {
     "name": "stdout",
     "output_type": "stream",
     "text": [
      "Collecting git+git://github.com/deepmind/jraph.git\n",
      "  Cloning git://github.com/deepmind/jraph.git to /tmp/pip-req-build-3zyojk43\n",
      "Requirement already satisfied (use --upgrade to upgrade): jraph==0.0.1.dev0 from git+git://github.com/deepmind/jraph.git in /home/toli/anaconda3/lib/python3.8/site-packages\n",
      "Requirement already satisfied: python_version>=\"3.6\" in /home/toli/anaconda3/lib/python3.8/site-packages (from jraph==0.0.1.dev0) (0.0.2)\n",
      "Requirement already satisfied: jax>=0.1.55 in /home/toli/anaconda3/lib/python3.8/site-packages (from jraph==0.0.1.dev0) (0.2.5)\n",
      "Requirement already satisfied: jaxlib>=0.1.37 in /home/toli/anaconda3/lib/python3.8/site-packages (from jraph==0.0.1.dev0) (0.1.56)\n",
      "Requirement already satisfied: numpy>=1.18.0 in /home/toli/anaconda3/lib/python3.8/site-packages (from jraph==0.0.1.dev0) (1.19.4)\n",
      "Requirement already satisfied: opt-einsum in /home/toli/anaconda3/lib/python3.8/site-packages (from jax>=0.1.55->jraph==0.0.1.dev0) (3.3.0)\n",
      "Requirement already satisfied: absl-py in /home/toli/anaconda3/lib/python3.8/site-packages (from jax>=0.1.55->jraph==0.0.1.dev0) (0.10.0)\n",
      "Requirement already satisfied: scipy in /home/toli/anaconda3/lib/python3.8/site-packages (from jaxlib>=0.1.37->jraph==0.0.1.dev0) (1.5.2)\n",
      "Requirement already satisfied: six in /home/toli/anaconda3/lib/python3.8/site-packages (from absl-py->jax>=0.1.55->jraph==0.0.1.dev0) (1.15.0)\n",
      "Building wheels for collected packages: jraph\n",
      "  Building wheel for jraph (setup.py) ... \u001b[?25ldone\n",
      "\u001b[?25h  Created wheel for jraph: filename=jraph-0.0.1.dev0-py3-none-any.whl size=70419 sha256=ea5c4b7fb908c2cf11a65702da3a3fcb55da757f61b287b74e95bc95ffe559b5\n",
      "  Stored in directory: /tmp/pip-ephem-wheel-cache-sn6an42c/wheels/f2/97/65/e08bbe57dc5f8e486ef42a2e638f299550f065c65541e1bbc8\n",
      "Successfully built jraph\n"
     ]
    }
   ],
   "source": [
    "!pip install git+git://github.com/deepmind/jraph.git"
   ]
  },
  {
   "cell_type": "code",
   "execution_count": null,
   "metadata": {
    "colab": {
     "base_uri": "https://localhost:8080/"
    },
    "id": "DZyO7WYCv1F7",
    "outputId": "a2af656b-fc4e-4014-8a8d-5a755c8fb25a"
   },
   "outputs": [
    {
     "name": "stdout",
     "output_type": "stream",
     "text": [
      "Looking in links: https://pytorch-geometric.com/whl/torch-1.7.0+cu101.html\n",
      "Requirement already satisfied: torch-scatter in /home/toli/anaconda3/lib/python3.8/site-packages (2.0.4)\n",
      "Looking in links: https://pytorch-geometric.com/whl/torch-1.7.0+cu101.html\n",
      "Requirement already satisfied: torch-sparse in /home/toli/anaconda3/lib/python3.8/site-packages (0.6.1)\n",
      "Requirement already satisfied: scipy in /home/toli/anaconda3/lib/python3.8/site-packages (from torch-sparse) (1.5.2)\n",
      "Requirement already satisfied: numpy>=1.14.5 in /home/toli/anaconda3/lib/python3.8/site-packages (from scipy->torch-sparse) (1.19.4)\n",
      "Looking in links: https://pytorch-geometric.com/whl/torch-1.7.0+cu101.html\n",
      "Requirement already satisfied: torch-cluster in /home/toli/anaconda3/lib/python3.8/site-packages (1.5.4)\n",
      "Requirement already satisfied: scipy in /home/toli/anaconda3/lib/python3.8/site-packages (from torch-cluster) (1.5.2)\n",
      "Requirement already satisfied: numpy>=1.14.5 in /home/toli/anaconda3/lib/python3.8/site-packages (from scipy->torch-cluster) (1.19.4)\n"
     ]
    }
   ],
   "source": [
    "!pip install torch-scatter -f https://pytorch-geometric.com/whl/torch-1.7.0+cu101.html\n",
    "!pip install torch-sparse -f https://pytorch-geometric.com/whl/torch-1.7.0+cu101.html\n",
    "!pip install torch-cluster -f https://pytorch-geometric.com/whl/torch-1.7.0+cu101.html\n",
    "!pip install torch-spline-conv -f https://pytorch-geometric.com/whl/torch-1.7.0+cu101.html\n",
    "!pip install torch-geometric"
   ]
  },
  {
   "cell_type": "code",
   "execution_count": null,
   "metadata": {
    "colab": {
     "base_uri": "https://localhost:8080/"
    },
    "id": "0qGLuq_wwQpt",
    "outputId": "53e68e40-34e4-4520-c5bf-044486f15a92"
   },
   "outputs": [],
   "source": [
    "!pip install dm-haiku optax"
   ]
  },
  {
   "cell_type": "code",
   "execution_count": null,
   "metadata": {
    "id": "BH7s1EQFvpQ0"
   },
   "outputs": [],
   "source": [
    "import jraph\n",
    "import torch\n",
    "import numpy as np\n",
    "import networkx as nx\n",
    "import community as community_louvain\n",
    "from torch_geometric.data import InMemoryDataset, Data\n",
    "from torch_geometric.utils import to_networkx\n",
    "from networkx import karate_club_graph, to_numpy_matrix\n",
    "from absl import app\n",
    "import jax\n",
    "import jax.numpy as jnp\n",
    "import haiku as hk\n",
    "from absl import app\n",
    "import logging\n",
    "from jax.interpreters.xla import DeviceArray\n",
    "from jax.experimental import stax\n",
    "from jax.experimental import optimizers\n",
    "import torch\n",
    "import numpy as np\n",
    "import networkx as nx\n",
    "import community as community_louvain\n",
    "from torch_geometric.data import InMemoryDataset, Data\n",
    "from torch_geometric.utils import to_networkx\n",
    "import matplotlib.pyplot as plt\n",
    "import logging\n",
    "import tensorflow.compat.v1 as tf\n",
    "from absl import app\n",
    "import haiku as hk\n",
    "import jax\n",
    "import jax.numpy as jnp\n",
    "import optax\n",
    "import random\n",
    "from decimal import Decimal\n",
    "import timeit"
   ]
  },
  {
   "cell_type": "code",
   "execution_count": null,
   "metadata": {
    "colab": {
     "base_uri": "https://localhost:8080/"
    },
    "id": "YDbE90xjvpRD",
    "outputId": "8268c5df-5da8-4527-9c9e-72267ed1125b"
   },
   "outputs": [],
   "source": [
    "class KarateClub(InMemoryDataset):\n",
    "\n",
    "    def __init__(self, transform=None):\n",
    "        super(KarateClub, self).__init__('.', transform, None, None)\n",
    "\n",
    "        G = nx.karate_club_graph()\n",
    "\n",
    "        x = torch.eye(G.number_of_nodes(), dtype=torch.float)\n",
    "        order = sorted(list(G.nodes()))\n",
    "        adjency = to_numpy_matrix(G,nodelist=order)\n",
    "        \n",
    "        adj = nx.to_scipy_sparse_matrix(G).tocoo()\n",
    "        row = torch.from_numpy(adj.row.astype(np.int64)).to(torch.long)\n",
    "        col = torch.from_numpy(adj.col.astype(np.int64)).to(torch.long)\n",
    "        edge_index = torch.stack([row, col], dim=0)\n",
    "\n",
    "        \n",
    "        y = [param['club'] for _, param in G.nodes().items()]\n",
    "        class_map = {class_name: index for index, class_name in enumerate(np.unique(y))}\n",
    "        y = list(map(lambda val: class_map[val], y))\n",
    "        y = torch.from_numpy(np.array(y))\n",
    "        # Select a single training node for each community\n",
    "        # (we just use the first one).\n",
    "        train_mask = torch.zeros(y.size(0), dtype=torch.bool)\n",
    "        num_nodes = G.number_of_nodes()\n",
    "        for i in range(int(y.max()) + 1):\n",
    "            train_mask[(y == i).nonzero(as_tuple=False)[0]] = True\n",
    "\n",
    "        data = Data(x=x, edge_index=edge_index, y=y, train_mask=train_mask,\n",
    "                    adjency = adjency)\n",
    "\n",
    "        self.data, self.slices = self.collate([data])\n",
    "\n",
    "    def __repr__(self):\n",
    "        return '{}()'.format(self.__class__.__name__)\n",
    "dataset = KarateClub()\n",
    "dataset = dataset[0]\n",
    "dataset"
   ]
  },
  {
   "cell_type": "code",
   "execution_count": null,
   "metadata": {
    "id": "CS47yk8cvpRH"
   },
   "outputs": [],
   "source": [
    "def get_zacharys_karate_club() -> jraph.GraphsTuple:\n",
    "    \n",
    "    social_graph = dataset.edge_index.t()\n",
    "    n_club_members = dataset.num_nodes\n",
    "    return jraph.GraphsTuple(\n",
    "    n_node=jnp.asarray([n_club_members]),\n",
    "    n_edge=jnp.asarray([len(social_graph)]),\n",
    "      # One-hot encoding for nodes.\n",
    "    nodes=jnp.eye(n_club_members),\n",
    "      # No edge features.\n",
    "    edges=None,\n",
    "    globals=None,\n",
    "    senders=jnp.asarray([edge[0] for edge in social_graph]),\n",
    "    receivers=jnp.asarray([edge[1] for edge in social_graph]))"
   ]
  },
  {
   "cell_type": "code",
   "execution_count": null,
   "metadata": {
    "id": "_Vpl-GAnvpRL"
   },
   "outputs": [],
   "source": [
    "def get_ground_truth_assignments_for_zacharys_karate_club() -> jnp.ndarray:    \n",
    "    return jnp.array(np.array(dataset.y).reshape(-1, 1))"
   ]
  },
  {
   "cell_type": "code",
   "execution_count": null,
   "metadata": {
    "id": "bVnMJiBMvpRN"
   },
   "outputs": [],
   "source": [
    "def network_definition(graph: jraph.GraphsTuple) -> jraph.ArrayTree:\n",
    "  def update_edge_fn(\n",
    "      edge_features,\n",
    "      sender_node_features,\n",
    "      receiver_node_features,\n",
    "      globals_):\n",
    "    del sender_node_features\n",
    "    del receiver_node_features\n",
    "    del globals_\n",
    "    return edge_features\n",
    "\n",
    "  def update_node_fn(\n",
    "      node_features,\n",
    "      aggregated_sender_edge_features,\n",
    "      aggregated_receiver_edge_features,\n",
    "      globals_):\n",
    "    del aggregated_sender_edge_features\n",
    "    del aggregated_receiver_edge_features\n",
    "    del globals_\n",
    "    return hk.nets.MLP([34, 34, 2])(node_features)\n",
    "\n",
    "  def update_globals_fn(\n",
    "      aggregated_node_features,\n",
    "      aggregated_edge_features,\n",
    "      globals_):\n",
    "    del aggregated_node_features\n",
    "    del aggregated_edge_features\n",
    "    return globals_\n",
    "\n",
    "  gn = jraph.GraphNetwork(\n",
    "    update_edge_fn=update_edge_fn,\n",
    "    update_node_fn=update_node_fn,\n",
    "    update_global_fn=update_globals_fn,\n",
    "  )\n",
    "  return gn(graph).nodes"
   ]
  },
  {
   "cell_type": "code",
   "execution_count": null,
   "metadata": {
    "id": "RfbTdwP9vpRY"
   },
   "outputs": [],
   "source": [
    "def print_graph(graph_touple, node_classes, title=None):\n",
    "  graphs_nx = nx.DiGraph(list(zip(graph_touple.senders, graph_touple.receivers)))\n",
    "  ax = plt.figure(figsize=(10, 10)).gca()\n",
    "  nx.draw(graphs_nx, ax=ax, node_color=node_classes, cmap=\"Set3\", arrows=None)\n",
    "  if title:\n",
    "    _ = ax.set_title(title)"
   ]
  },
  {
   "cell_type": "code",
   "execution_count": null,
   "metadata": {
    "id": "t5VrSroeNnX2"
   },
   "outputs": [],
   "source": [
    "zacharys_karate_club = get_zacharys_karate_club()\n",
    "labels = get_ground_truth_assignments_for_zacharys_karate_club()"
   ]
  },
  {
   "cell_type": "code",
   "execution_count": null,
   "metadata": {
    "colab": {
     "base_uri": "https://localhost:8080/",
     "height": 591
    },
    "id": "dUD1f43OQ8iR",
    "outputId": "c409df28-6c20-4232-bde8-44008fffb093"
   },
   "outputs": [],
   "source": [
    "print_graph(zacharys_karate_club, np.array(labels.reshape(-1)), \"Ground Truth\")"
   ]
  },
  {
   "cell_type": "code",
   "execution_count": null,
   "metadata": {
    "id": "yLh5PrTEvpRU"
   },
   "outputs": [],
   "source": [
    "@jax.jit\n",
    "def prediction_loss(params):\n",
    "    logits = jax.nn.sigmoid(network.apply(params, zacharys_karate_club))\n",
    "    return -jnp.mean(labels * jnp.log(logits) + (1 - labels) * jnp.log(1 - logits))"
   ]
  },
  {
   "cell_type": "code",
   "execution_count": null,
   "metadata": {
    "id": "T5KQNUOtvpRU"
   },
   "outputs": [],
   "source": [
    "  network = hk.without_apply_rng(hk.transform(network_definition))\n",
    "  params = network.init(jax.random.PRNGKey(np.random.randint(0, 1000000, dtype=\"int64\")), zacharys_karate_club)\n",
    "\n",
    "  opt_init, opt_update = optax.adam(1e-2)\n",
    "  opt_state = opt_init(params)"
   ]
  },
  {
   "cell_type": "code",
   "execution_count": null,
   "metadata": {
    "id": "Iew5ytB9vpRV"
   },
   "outputs": [],
   "source": [
    "@jax.jit\n",
    "def update(params, opt_state):\n",
    "    g = jax.grad(prediction_loss)(params)\n",
    "    updates, opt_state = opt_update(g, opt_state)\n",
    "    return optax.apply_updates(params, updates), opt_state"
   ]
  },
  {
   "cell_type": "code",
   "execution_count": null,
   "metadata": {
    "id": "ahfAOo1qvpRV"
   },
   "outputs": [],
   "source": [
    "@jax.jit\n",
    "def accuracy(params):\n",
    "    decoded_nodes = network.apply(params, zacharys_karate_club)\n",
    "    return jnp.mean(jnp.int64(decoded_nodes > 0.5) == labels)"
   ]
  },
  {
   "cell_type": "code",
   "execution_count": null,
   "metadata": {
    "id": "FY5WLqhnSx7P"
   },
   "outputs": [],
   "source": [
    "#def train(network_definition, graph_touple, step_num=500, print_frequency=None):\n",
    "  #network = hk.without_apply_rng(hk.transform(network_definition))\n",
    "  #params = network.init(jax.random.PRNGKey(np.random.randint(0, 1000000, dtype=\"int64\")), graph_touple)\n",
    "\n",
    "  #opt_init, opt_update = optax.adam(1e-2)\n",
    "  #opt_state = opt_init(params)\n",
    "\n",
    " #losses, accuracies = [], []\n",
    "  #for i in range(step_num):\n",
    "    #params, opt_state = update(params, opt_state)\n",
    "    #step_loss = prediction_loss(params)\n",
    "    #step_accuracy = accuracy(params)\n",
    "    #losses.append(step_loss)\n",
    "    #accuracies.append(step_accuracy)\n",
    "\n",
    "    #if print_frequency and i % print_frequency == 0:\n",
    "      #predicted = np.argmax(network.apply(params, graph_touple), axis=1)\n",
    "      #print_graph(graph_touple, predicted, 'Step: %d, Loss: %.2E, Accuracy: %.2E' % (i, step_loss, step_accuracy))\n",
    "  #return losses, accuracies"
   ]
  },
  {
   "cell_type": "code",
   "execution_count": null,
   "metadata": {
    "id": "Md-tAXDzvpRW"
   },
   "outputs": [],
   "source": [
    "import time\n",
    "def train(network_definition,params, graph_touple, step_num=100, print_frequency=None):\n",
    "  #network = hk.without_apply_rng(hk.transform(network_definition))\n",
    "  \n",
    "\n",
    "  opt_init, opt_update = optax.adam(1e-3)\n",
    "  opt_state = opt_init(params)\n",
    "\n",
    "  train_losses, train_accuracies,train_times = [], [], []\n",
    "  predicted = None\n",
    "  for i in range(step_num):\n",
    "    start_time = time.time()\n",
    "    params, opt_state = update(params, opt_state)\n",
    "    train_times.append(time.time() - start_time)\n",
    "    step_loss = prediction_loss(params)\n",
    "    step_accuracy = accuracy(params)\n",
    "    if np.isnan(step_loss):\n",
    "      train_losses.append(train_losses[-1])\n",
    "      train_accuracies.append(train_accuracies[-1])\n",
    "    else:\n",
    "      train_losses.append(step_loss)\n",
    "      train_accuracies.append(step_accuracy)\n",
    "      step_predicted = np.argmax(network.apply(params, graph_touple), axis=1)\n",
    "      if not np.isnan(step_predicted).any():\n",
    "        predicted = step_predicted\n",
    "\n",
    "    if  i % 10 == 0 or i ==99:\n",
    "      print_graph(graph_touple, predicted, 'Step: %d, Loss: %.2E, Accuracy: %.2E, Train Time: %.2E' % (i, train_losses[-1], train_accuracies[-1], train_times[-1]))\n",
    "  return train_losses, train_accuracies, train_times"
   ]
  },
  {
   "cell_type": "code",
   "execution_count": null,
   "metadata": {
    "colab": {
     "base_uri": "https://localhost:8080/",
     "height": 1000
    },
    "id": "n3Gom1H0NNpG",
    "outputId": "e68e05dd-8fcb-4fea-b93c-c91d369201f9"
   },
   "outputs": [],
   "source": [
    "params = network.init(jax.random.PRNGKey(np.random.randint(0, 1000000, dtype=\"int64\")), zacharys_karate_club)\n",
    "np.save('params_dump.npy', hk.data_structures.to_mutable_dict(params))\n",
    "train_losses, train_accuracies, train_times, = train(network_definition,params, zacharys_karate_club, print_frequency=100)"
   ]
  },
  {
   "cell_type": "code",
   "execution_count": null,
   "metadata": {
    "colab": {
     "base_uri": "https://localhost:8080/",
     "height": 299
    },
    "id": "Fw2TNKxcvpRX",
    "outputId": "bcffe4c8-c6ee-4f44-9266-76ff89197bb4"
   },
   "outputs": [],
   "source": [
    "plt.plot(list(zip(train_losses, train_accuracies)))"
   ]
  },
  {
   "cell_type": "code",
   "execution_count": null,
   "metadata": {
    "id": "DQiEl1QKvpRa"
   },
   "outputs": [],
   "source": [
    "def predict(network_definition, graph_touple, params, print_result=False):\n",
    "  start_time = time.time()\n",
    "  predictionn_loss = prediction_loss(params)\n",
    "  prediction_accuracy = accuracy(params)\n",
    "  predicted = np.argmax(network.apply(params, graph_touple), axis=1)\n",
    "  prediction_time = time.time() - start_time\n",
    "\n",
    "  #if print_result:\n",
    "    #print_graph(graph_touple, predicted, 'Predicted, Loss: %.2E, Accuracy: %.2E, Train Time: %.2E' % (prediction_loss, prediction_accuracy, prediction_time))\n",
    "  return predictionn_loss, prediction_accuracy, prediction_time"
   ]
  },
  {
   "cell_type": "code",
   "execution_count": null,
   "metadata": {
    "colab": {
     "base_uri": "https://localhost:8080/",
     "height": 1000
    },
    "id": "Jf76F0fCQt5r",
    "outputId": "51ff645a-a2a0-4559-e21d-2679f06f5f8f"
   },
   "outputs": [],
   "source": [
    "train_losses, train_accuracies, train_times = [], [], []\n",
    "prediction_losses, prediction_accuracies, prediction_times = [], [], []\n",
    "\n",
    "for i in range(25):\n",
    "  params = network.init(jax.random.PRNGKey(np.random.randint(0, 1000000, dtype=\"int64\")), zacharys_karate_club)\n",
    "  %%timeit\n",
    "  train_losses_values, train_accuracies_values, train_times_values = train(network_definition,params, zacharys_karate_club, print_frequency=100)\n",
    "  train_losses.append(train_losses_values)\n",
    "  train_accuracies.append(train_accuracies_values)\n",
    "  train_times.append(train_times_values)\n",
    "\n",
    "  prediction_losses_values, prediction_accuracies_values, prediction_times_values = predict(network_definition, zacharys_karate_club, params)\n",
    "  prediction_losses.append(prediction_losses_values)\n",
    "  prediction_accuracies.append(prediction_accuracies_values)\n",
    "  prediction_times.append(prediction_times_values)"
   ]
  },
  {
   "cell_type": "code",
   "execution_count": null,
   "metadata": {
    "id": "p_qxyA-LWrNJ"
   },
   "outputs": [],
   "source": [
    "train_losses = np.array(train_losses)\n",
    "train_accuracies = np.array(train_accuracies)\n",
    "train_times = np.array(train_times)\n",
    "prediction_losses = np.array(prediction_losses)\n",
    "prediction_accuracies = np.array(prediction_accuracies)\n",
    "prediction_times = np.array(prediction_times)"
   ]
  },
  {
   "cell_type": "code",
   "execution_count": null,
   "metadata": {
    "id": "X2he4BGzpZtb"
   },
   "outputs": [],
   "source": [
    "fig, ax = plt.subplots(1, 1, figsize=(10, 6))\n",
    "max_values = np.array(np.max(train_losses, axis=0), dtype=float)\n",
    "min_values = np.array(np.min(train_losses, axis=0), dtype=float)\n",
    "mean_values = np.array(np.mean(train_losses, axis=0), dtype=float)\n",
    "\n",
    "x = np.arange(0, train_losses.shape[1])\n",
    "ax.plot(x, max_values, color=\"tab:blue\")\n",
    "ax.plot(x, min_values, color=\"tab:blue\")\n",
    "ax.plot(x, mean_values, color=\"tab:blue\")\n",
    "ax.fill_between(x, min_values, max_values, color=\"tab:blue\", alpha=0.3)\n",
    "ax.set_title(\"Loss\")\n",
    "ax.set_xlabel(\"Step\")\n",
    "ax.set_ylabel(\"Loss value\")\n",
    "ax.grid()"
   ]
  },
  {
   "cell_type": "code",
   "execution_count": null,
   "metadata": {
    "id": "QxM1gU1bpb0w"
   },
   "outputs": [],
   "source": [
    "fig, ax = plt.subplots(1, 1, figsize=(10, 6))\n",
    "max_values = np.array(np.max(train_accuracies, axis=0), dtype=float)\n",
    "min_values = np.array(np.min(train_accuracies, axis=0), dtype=float)\n",
    "mean_values = np.array(np.mean(train_accuracies, axis=0), dtype=float)\n",
    "\n",
    "x = np.arange(0, train_accuracies.shape[1])\n",
    "ax.plot(x, max_values, color=\"tab:red\")\n",
    "ax.plot(x, min_values, color=\"tab:red\")\n",
    "ax.plot(x, mean_values, color=\"tab:red\")\n",
    "ax.fill_between(x, min_values, max_values, color=\"tab:red\", alpha=0.3)\n",
    "ax.set_title(\"Accuracy\")\n",
    "ax.set_xlabel(\"Step\")\n",
    "ax.set_ylabel(\"Accuracy value\")\n",
    "ax.grid()"
   ]
  },
  {
   "cell_type": "code",
   "execution_count": null,
   "metadata": {
    "id": "3owbgpAbpckS"
   },
   "outputs": [],
   "source": [
    "fig, ax = plt.subplots(1, 1, figsize=(10, 6))\n",
    "max_values = np.array(np.max(train_times, axis=0), dtype=float)\n",
    "min_values = np.array(np.min(train_times, axis=0), dtype=float)\n",
    "mean_values = np.array(np.mean(train_times, axis=0), dtype=float)\n",
    "\n",
    "x = np.arange(0, train_times.shape[1])\n",
    "ax.plot(x, max_values, color=\"tab:orange\")\n",
    "ax.plot(x, min_values, color=\"tab:orange\")\n",
    "ax.plot(x, mean_values, color=\"tab:orange\")\n",
    "ax.fill_between(x, min_values, max_values, color=\"tab:orange\", alpha=0.3)\n",
    "ax.set_title(\"Step time\")\n",
    "ax.set_xlabel(\"Step\")\n",
    "ax.set_ylabel(\"Step time\")\n",
    "ax.grid()"
   ]
  },
  {
   "cell_type": "code",
   "execution_count": null,
   "metadata": {
    "id": "rk9clqU4pekp"
   },
   "outputs": [],
   "source": [
    "print(f\"Mean train time: {np.mean(train_times)}\")"
   ]
  },
  {
   "cell_type": "code",
   "execution_count": null,
   "metadata": {
    "id": "kuQp_3ZOpgz8"
   },
   "outputs": [],
   "source": [
    "print(f\"Mean prediction loss: {np.mean(prediction_losses)}\")\n",
    "print(f\"Mean prediction accuracy: {np.mean(prediction_accuracies)}\")\n",
    "print(f\"Mean prediction time: {np.mean(prediction_times)}\")"
   ]
  },
  {
   "cell_type": "code",
   "execution_count": null,
   "metadata": {
    "id": "izaUKqJKpi-O"
   },
   "outputs": [],
   "source": []
  }
 ],
 "metadata": {
  "colab": {
   "collapsed_sections": [],
   "name": "jraph.ipynb",
   "provenance": []
  },
  "kernelspec": {
   "display_name": "Python 3",
   "language": "python",
   "name": "python3"
  },
  "language_info": {
   "codemirror_mode": {
    "name": "ipython",
    "version": 3
   },
   "file_extension": ".py",
   "mimetype": "text/x-python",
   "name": "python",
   "nbconvert_exporter": "python",
   "pygments_lexer": "ipython3",
   "version": "3.8.5"
  }
 },
 "nbformat": 4,
 "nbformat_minor": 1
}
