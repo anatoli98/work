{
 "cells": [
  {
   "cell_type": "code",
   "execution_count": 1,
   "metadata": {},
   "outputs": [],
   "source": [
    "import numpy as np\n",
    "from matplotlib import pyplot as plt\n",
    "import pandas as pd\n",
    "\n",
    "data = pd.read_csv(\"/home/anatol/course/machine-learning-ex1/ex1/ex1data2.txt\",\n",
    "                   names=['size','room','price'],header = None) \n",
    "x1 = data['size'].to_numpy(np.float32)\n",
    "x2 = data['room'].to_numpy(np.float32)\n",
    "y = data['price'].to_numpy(np.float32)\n",
    "\n",
    "##normalization\n",
    "## for size\n",
    "mean = np.mean(x1)\n",
    "std = np.std(x1)##otkloninie w srednem kazdogo chisla ot srednego \n",
    "x1 = (x1 - mean)/std \n",
    "myvalue0 = (1650 - mean)/std##dlapredskazania\n",
    "\n",
    "## for number of bedrooms\n",
    "mean = np.mean(x2)\n",
    "std = np.std(x2)##otkloninie w srednem kazdogo chisla ot srednego \n",
    "x2 = (x2 - mean)/std \n",
    "myvalue1 = (3 - mean)/std"
   ]
  },
  {
   "cell_type": "code",
   "execution_count": 2,
   "metadata": {},
   "outputs": [],
   "source": [
    "#making matrix X and defing theta\n",
    "m = x1.shape[0]\n",
    "x1 = x1.reshape(m,1)\n",
    "x2 = x2.reshape(m,1)\n",
    "X = np.hstack((np.ones((m,1)),x1,x2))\n",
    "theta = np.zeros((3,1))\n",
    "y = y.reshape(m,1)\n",
    "alpha = [0.3, 0.1, 0.03, 0.01]\n",
    "iterations = 50"
   ]
  },
  {
   "cell_type": "code",
   "execution_count": 3,
   "metadata": {},
   "outputs": [
    {
     "data": {
      "text/plain": [
       "65591548106.45744"
      ]
     },
     "execution_count": 3,
     "metadata": {},
     "output_type": "execute_result"
    }
   ],
   "source": [
    "def costfunction(X,y,theta):\n",
    "    m = X.shape[0]\n",
    "    J = 1/(2*m)*np.sum((X @ theta-y)**2)\n",
    "    \n",
    "    return J\n",
    "costfunction(X,y,theta)"
   ]
  },
  {
   "cell_type": "code",
   "execution_count": 4,
   "metadata": {},
   "outputs": [
    {
     "data": {
      "text/plain": [
       "array([[6.55915481e+10, 6.55915481e+10, 6.55915481e+10, 6.55915481e+10],\n",
       "       [3.27178872e+10, 5.32682604e+10, 6.17511947e+10, 6.42977763e+10],\n",
       "       [1.71259845e+10, 4.33890851e+10, 5.81487171e+10, 6.30310184e+10],\n",
       "       [9.58680529e+09, 3.54574313e+10, 5.47689761e+10, 6.17906944e+10],\n",
       "       [5.88706322e+09, 2.90805556e+10, 5.15978285e+10, 6.05762371e+10],\n",
       "       [4.04693734e+09, 2.39470799e+10, 4.86220585e+10, 5.93870920e+10],\n",
       "       [3.11821256e+09, 1.98095739e+10, 4.58293145e+10, 5.82227168e+10],\n",
       "       [2.64089936e+09, 1.64710117e+10, 4.32080506e+10, 5.70825812e+10],\n",
       "       [2.38973839e+09, 1.37742042e+10, 4.07474718e+10, 5.59661668e+10],\n",
       "       [2.25350445e+09, 1.15935250e+10, 3.84374833e+10, 5.48729665e+10],\n",
       "       [2.17678926e+09, 9.82841307e+09, 3.62686436e+10, 5.38024844e+10],\n",
       "       [2.13168259e+09, 8.39825464e+09, 3.42321205e+10, 5.27542356e+10],\n",
       "       [2.10391419e+09, 7.23834070e+09, 3.23196502e+10, 5.17277460e+10],\n",
       "       [2.08603782e+09, 6.29666642e+09, 3.05234997e+10, 5.07225517e+10],\n",
       "       [2.07406120e+09, 5.53139072e+09, 2.88364315e+10, 4.97381992e+10],\n",
       "       [2.06576871e+09, 4.90881575e+09, 2.72516704e+10, 4.87742448e+10],\n",
       "       [2.05987915e+09, 4.40177670e+09, 2.57628734e+10, 4.78302548e+10],\n",
       "       [2.05561737e+09, 3.98835628e+09, 2.43641010e+10, 4.69058049e+10],\n",
       "       [2.05249247e+09, 3.65085675e+09, 2.30497908e+10, 4.60004799e+10],\n",
       "       [2.05018028e+09, 3.37497668e+09, 2.18147324e+10, 4.51138740e+10],\n",
       "       [2.04845890e+09, 3.14915084e+09, 2.06540452e+10, 4.42455902e+10],\n",
       "       [2.04717211e+09, 2.96402019e+09, 1.95631562e+10, 4.33952401e+10],\n",
       "       [2.04620759e+09, 2.81200586e+09, 1.85377801e+10, 4.25624438e+10],\n",
       "       [2.04548334e+09, 2.68696649e+09, 1.75739012e+10, 4.17468298e+10],\n",
       "       [2.04493888e+09, 2.58392219e+09, 1.66677552e+10, 4.09480346e+10],\n",
       "       [2.04452926e+09, 2.49883216e+09, 1.58158135e+10, 4.01657026e+10],\n",
       "       [2.04422094e+09, 2.42841532e+09, 1.50147682e+10, 3.93994861e+10],\n",
       "       [2.04398878e+09, 2.37000555e+09, 1.42615171e+10, 3.86490449e+10],\n",
       "       [2.04381395e+09, 2.32143473e+09, 1.35531515e+10, 3.79140460e+10],\n",
       "       [2.04368226e+09, 2.28093838e+09, 1.28869433e+10, 3.71941640e+10],\n",
       "       [2.04358306e+09, 2.24707920e+09, 1.22603337e+10, 3.64890803e+10],\n",
       "       [2.04350833e+09, 2.21868536e+09, 1.16709221e+10, 3.57984832e+10],\n",
       "       [2.04345203e+09, 2.19480052e+09, 1.11164565e+10, 3.51220679e+10],\n",
       "       [2.04340961e+09, 2.17464331e+09, 1.05948239e+10, 3.44595362e+10],\n",
       "       [2.04337766e+09, 2.15757460e+09, 1.01040416e+10, 3.38105961e+10],\n",
       "       [2.04335359e+09, 2.14307095e+09, 9.64224865e+09, 3.31749623e+10],\n",
       "       [2.04333545e+09, 2.13070302e+09, 9.20769870e+09, 3.25523554e+10],\n",
       "       [2.04332179e+09, 2.12011816e+09, 8.79875242e+09, 3.19425020e+10],\n",
       "       [2.04331149e+09, 2.11102621e+09, 8.41387097e+09, 3.13451348e+10],\n",
       "       [2.04330373e+09, 2.10318801e+09, 8.05160964e+09, 3.07599921e+10],\n",
       "       [2.04329789e+09, 2.09640603e+09, 7.71061200e+09, 3.01868180e+10],\n",
       "       [2.04329349e+09, 2.09051680e+09, 7.38960440e+09, 2.96253618e+10],\n",
       "       [2.04329017e+09, 2.08538473e+09, 7.08739080e+09, 2.90753785e+10],\n",
       "       [2.04328767e+09, 2.08089706e+09, 6.80284797e+09, 2.85366283e+10],\n",
       "       [2.04328579e+09, 2.07695981e+09, 6.53492094e+09, 2.80088764e+10],\n",
       "       [2.04328437e+09, 2.07349439e+09, 6.28261880e+09, 2.74918932e+10],\n",
       "       [2.04328330e+09, 2.07043492e+09, 6.04501075e+09, 2.69854539e+10],\n",
       "       [2.04328250e+09, 2.06772599e+09, 5.82122235e+09, 2.64893387e+10],\n",
       "       [2.04328189e+09, 2.06532085e+09, 5.61043208e+09, 2.60033323e+10],\n",
       "       [2.04328143e+09, 2.06317994e+09, 5.41186806e+09, 2.55272241e+10]])"
      ]
     },
     "execution_count": 4,
     "metadata": {},
     "output_type": "execute_result"
    }
   ],
   "source": [
    "def grades(X,y,theta,alpha,iter,num_of_theta):\n",
    "    theta = np.zeros((num_of_theta,1))\n",
    "    m = X.shape[0]\n",
    "    J_his = np.zeros((iter,1))\n",
    "    theta_his = np.zeros((iter+1,num_of_theta))\n",
    "    x_sum = np.sum(X[:,1])\n",
    "    val = np.zeros((iter,num_of_theta))\n",
    "    for i in range(iter):\n",
    "        theta[:,0] = theta_his[i,:]\n",
    "        J_his[i,0] = costfunction(X,y,theta)\n",
    "        \n",
    "        \n",
    "        for j in range(num_of_theta):\n",
    "            \n",
    "            val[i,j] = theta[j,0] - alpha / (m) * (np.transpose(X @ theta-y) @ X[:,j])\n",
    "            theta_his[i+1,j] = val[i,j]\n",
    "       # theta[0,0] = val0  \n",
    "        #theta[1,0] = val1\n",
    "       # theta[2,0] = val2\n",
    "      \n",
    "    return J_his,theta_his\n",
    "\n",
    "new = np.zeros((iterations,1))\n",
    "for al in alpha:\n",
    "    \n",
    "    \n",
    "    J_his, _ = grades(X,y,theta,al,iterations,3)\n",
    "    new = np.hstack((new, J_his))\n",
    "    \n",
    "#new.reshape(50,5)\n",
    "new[:, 1:]"
   ]
  },
  {
   "cell_type": "code",
   "execution_count": 5,
   "metadata": {},
   "outputs": [
    {
     "data": {
      "image/png": "[encoded data removed]",
      "text/plain": [
       "<Figure size 432x288 with 1 Axes>"
      ]
     },
     "metadata": {
      "needs_background": "light"
     },
     "output_type": "display_data"
    }
   ],
   "source": [
    "for i, el in enumerate(alpha):\n",
    "    plt.plot(np.linspace(1,iterations,iterations),new[:,i +1],label=\"Cost against iterations, alpha = \" + str(el))\n",
    "    plt.xlabel('iterations')\n",
    "    plt.ylabel('cost J')\n",
    "    plt.legend()\n",
    "plt.show()"
   ]
  },
  {
   "cell_type": "code",
   "execution_count": 6,
   "metadata": {},
   "outputs": [
    {
     "name": "stdout",
     "output_type": "stream",
     "text": [
      "[338658.25646042 103322.82839356   -474.73971176]\n"
     ]
    },
    {
     "data": {
      "text/plain": [
       "array([292679.0722507])"
      ]
     },
     "execution_count": 6,
     "metadata": {},
     "output_type": "execute_result"
    }
   ],
   "source": [
    "_ , theta_his = grades(X,y,theta,0.1,iterations,3)\n",
    "\n",
    "myvalue = [1 , myvalue0, myvalue1]\n",
    "print(theta_his[iterations,:])\n",
    "predicted_cost = myvalue @ theta_his[iterations,:].reshape(3,1)\n",
    "predicted_cost"
   ]
  }
 ],
 "metadata": {
  "kernelspec": {
   "display_name": "Python 3",
   "language": "python",
   "name": "python3"
  },
  "language_info": {
   "codemirror_mode": {
    "name": "ipython",
    "version": 3
   },
   "file_extension": ".py",
   "mimetype": "text/x-python",
   "name": "python",
   "nbconvert_exporter": "python",
   "pygments_lexer": "ipython3",
   "version": "3.8.5"
  }
 },
 "nbformat": 4,
 "nbformat_minor": 2
}
