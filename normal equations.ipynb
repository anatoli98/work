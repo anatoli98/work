{
 "cells": [
  {
   "cell_type": "code",
   "execution_count": 1,
   "metadata": {},
   "outputs": [],
   "source": [
    "import numpy as np\n",
    "from matplotlib import pyplot as plt\n",
    "import pandas as pd\n",
    "from numpy.linalg import inv\n",
    "data = pd.read_csv(\"/home/anatol/course/machine-learning-ex1/ex1/ex1data2.txt\",\n",
    "                   names=['size','room','price'],header = None) \n",
    "x1 = data['size'].to_numpy(np.float32)\n",
    "x2 = data['room'].to_numpy(np.float32)\n",
    "y = data['price'].to_numpy(np.float32)\n",
    "m = x1.shape[0]\n",
    "x1 = x1.reshape(m,1)\n",
    "x2 = x2.reshape(m,1)\n",
    "y = y.reshape(m,1)\n",
    "X = np.hstack((np.ones((m,1)),x1,x2))\n",
    "theta = np.zeros((X.shape[1],1))"
   ]
  },
  {
   "cell_type": "code",
   "execution_count": 2,
   "metadata": {},
   "outputs": [],
   "source": [
    "def normalEqn(X,y):\n",
    "    theta = np.zeros((X.shape[1],1))\n",
    "    theta = inv((np.transpose(X) @ X )) @ np.transpose(X) @ y\n",
    "    \n",
    "    return theta\n",
    "theta = normalEqn(X,y)"
   ]
  },
  {
   "cell_type": "code",
   "execution_count": 3,
   "metadata": {},
   "outputs": [
    {
     "data": {
      "text/plain": [
       "array([293081.46433489])"
      ]
     },
     "execution_count": 3,
     "metadata": {},
     "output_type": "execute_result"
    }
   ],
   "source": [
    "myvalue = [1 , 1650, 3]\n",
    "predict = myvalue @ theta\n",
    "predict"
   ]
  }
 ],
 "metadata": {
  "kernelspec": {
   "display_name": "Python 3",
   "language": "python",
   "name": "python3"
  },
  "language_info": {
   "codemirror_mode": {
    "name": "ipython",
    "version": 3
   },
   "file_extension": ".py",
   "mimetype": "text/x-python",
   "name": "python",
   "nbconvert_exporter": "python",
   "pygments_lexer": "ipython3",
   "version": "3.8.5"
  }
 },
 "nbformat": 4,
 "nbformat_minor": 2
}
